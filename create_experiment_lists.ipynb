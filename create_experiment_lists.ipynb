{
 "cells": [
  {
   "cell_type": "code",
   "execution_count": 1,
   "metadata": {},
   "outputs": [],
   "source": [
    "import os\n",
    "import pandas as pd"
   ]
  },
  {
   "cell_type": "code",
   "execution_count": 127,
   "metadata": {},
   "outputs": [
    {
     "name": "stdout",
     "output_type": "stream",
     "text": [
      "utf-8\n"
     ]
    }
   ],
   "source": [
    "import chardet\n",
    "# Encoding der Datei automatisch erkennen\n",
    "with open('./Outputs_lists/Output_list3rev_1.txt', 'rb') as f:\n",
    "    result = chardet.detect(f.read())\n",
    "    print(result['encoding'])"
   ]
  },
  {
   "cell_type": "code",
   "execution_count": null,
   "metadata": {},
   "outputs": [],
   "source": []
  },
  {
   "cell_type": "code",
   "execution_count": 4,
   "metadata": {},
   "outputs": [
    {
     "name": "stdout",
     "output_type": "stream",
     "text": [
      "removed last column from Output_list1_1.txt\n",
      "removed last column from Output_list1_10.txt\n",
      "removed last column from Output_list1_2.txt\n",
      "removed last column from Output_list1_3.txt\n",
      "removed last column from Output_list1_4.txt\n",
      "removed last column from Output_list1_5.txt\n",
      "removed last column from Output_list1_6.txt\n",
      "removed last column from Output_list1_7.txt\n",
      "removed last column from Output_list1_8.txt\n",
      "removed last column from Output_list1_9.txt\n"
     ]
    }
   ],
   "source": [
    "# util.js DATEI ERSTELLEN\n",
    "\n",
    "import os\n",
    "import pandas as pd\n",
    "import chardet\n",
    "\n",
    "# Funktion zur automatischen Encoding-Erkennung\n",
    "def detect_encoding(file_path):\n",
    "    with open(file_path, 'rb') as f:\n",
    "        result = chardet.detect(f.read())\n",
    "    return result['encoding']\n",
    "\n",
    "# Directory containing the text files\n",
    "directory = \"./Outputs_lists\"\n",
    "\n",
    "# Keys to label the columns\n",
    "keys = ['Trial_no','Trial_cat','Cat_comb_type','Word1','Word2','Pair_no1','Pair_no2','Gender_comb','Cat_comb','']\n",
    "\n",
    "# Pfad zur util.js Datei\n",
    "util_js_path = 'util.js'\n",
    "\n",
    "# Lies die existierende util.js Datei\n",
    "with open(util_js_path, 'r') as util_file:\n",
    "    util_js_content = util_file.readlines()\n",
    "\n",
    "# Finde den Index der Zeile mit dem Kommentar // INSERT_HERE\n",
    "insert_index = None\n",
    "for i, line in enumerate(util_js_content):\n",
    "    if \"// INSERT_HERE\" in line:\n",
    "        insert_index = i\n",
    "        break\n",
    "\n",
    "if insert_index is None:\n",
    "    print(\"Kommentar // INSERT_HERE nicht gefunden.\")\n",
    "else:\n",
    "    # Öffne die util.js Datei zum Schreiben\n",
    "    with open(util_js_path, 'w') as util_file:\n",
    "        # Schreibe alle Zeilen bis zur // INSERT_HERE Stelle\n",
    "        for line in util_js_content[:insert_index + 1]:\n",
    "            util_file.write(line)\n",
    "\n",
    "        # Erstelle den JavaScript-Code, den du einfügen möchtest\n",
    "        util_file.write(\"var lists = {\\n\")\n",
    "\n",
    "        # Loop durch alle Dateien im Verzeichnis\n",
    "        for i, filename in enumerate(os.listdir(directory)):\n",
    "            if filename.endswith(\".txt\"):  # Nur .txt Dateien verarbeiten\n",
    "                filepath = os.path.join(directory, filename)\n",
    "\n",
    "                try:\n",
    "                    # Lese die Textdatei in ein DataFrame\n",
    "                    enc = detect_encoding(filepath)\n",
    "                    df = pd.read_csv(filepath, sep='\\t', header=None, encoding=enc)#'ISO-8859-1''windows-1252')\n",
    "\n",
    "                    df = df.fillna(\"\")\n",
    "\n",
    "                    # Entferne die letzte Spalte aus der Output-Datei\n",
    "                    if df.shape[1]==10:\n",
    "                        df = df.iloc[:, :-1]\n",
    "                        print('removed last column from '+filename)\n",
    "\n",
    "                    df[3] = df[3].str.upper()\n",
    "                    df[4] = df[4].str.upper()\n",
    "\n",
    "                    # Erstelle die concatenated column im gewünschten Format\n",
    "                    df['Concatenated_Row'] = df.apply(\n",
    "                        lambda row: '{ ' + ', '.join([\n",
    "                            f'{keys[i]}: \"{int(value) if isinstance(value, float) and value.is_integer() else value}\"'\n",
    "                            for i, value in enumerate(row)\n",
    "                        ]) + ', Type: jsPsychSurveyText }', axis=1\n",
    "                    )\n",
    "\n",
    "                    # Hole den Namen für die Liste aus dem Dateinamen, entferne 'Output_'\n",
    "                    list_name = filename.replace('Output_', '').replace('.txt', '')\n",
    "\n",
    "                    # Schreibe die Liste in die util.js Datei im JavaScript-Format\n",
    "                    util_file.write(f\"  {list_name}: [\\n\")\n",
    "                    for row in df['Concatenated_Row']:\n",
    "                        util_file.write(f\"    {row},\\n\")\n",
    "                    util_file.write(\"  ],\\n\")\n",
    "                    \n",
    "                except Exception as e:\n",
    "                    print(f\"Fehler beim Verarbeiten von {filename}: {e}\")\n",
    "\n",
    "        # Ende des JavaScript-Objekts\n",
    "        util_file.write(\"};\\n\")\n",
    "\n",
    "        # Schreibe alle Zeilen nach // INSERT_HERE\n",
    "        for line in util_js_content[insert_index + 1:]:\n",
    "            util_file.write(line)\n",
    "\n",
    "\n"
   ]
  },
  {
   "cell_type": "code",
   "execution_count": 136,
   "metadata": {},
   "outputs": [
    {
     "name": "stdout",
     "output_type": "stream",
     "text": [
      "Dateien aus 'Outputs_lists' wurden in './config/experiment.config' geschrieben.\n"
     ]
    }
   ],
   "source": [
    "#CONFIG DATEI ERSTELLEN\n",
    "\n",
    "import os\n",
    "\n",
    "# Das Verzeichnis, das durchlaufen werden soll\n",
    "directory = 'Outputs_lists'\n",
    "\n",
    "# Der Name der Konfigurationsdatei\n",
    "config_filename = './config/experiment.config'\n",
    "\n",
    "# Öffne die Datei zum Schreiben (falls sie nicht existiert, wird sie erstellt)\n",
    "with open(config_filename, 'w') as config_file:\n",
    "    header = \"\"\"\n",
    "    {\n",
    "        \"name\": \"Traumgestalten\",\n",
    "        \"notes\": \"Pilotstudie zu sprachlicher Kreativität C01\",\n",
    "        \"completion_URL\": \"https://app.prolific.com/submissions/complete?cc=C3A361EJ\",\n",
    "        \"conditions\": [\n",
    "        \"\"\"\n",
    "    \n",
    "    config_file.write(header)\n",
    "\n",
    "    # Durchlaufe alle Dateien im Verzeichnis\n",
    "    for filename in os.listdir(directory):\n",
    "        # Überprüfe, ob es sich um eine Datei handelt\n",
    "        if os.path.isfile(os.path.join(directory, filename)):\n",
    "            # Schreibe den Dateinamen in die Konfigurationsdatei\n",
    "            listname = filename.replace('Output_','').replace('.txt','')\n",
    "\n",
    "            def cond(listname):\n",
    "                output = f\"\"\"\n",
    "                {{\n",
    "                    \"name\": \"{listname}\",\n",
    "                    \"experiment_URL\": \"https://lisahud.github.io/C01/experiment.html?list={listname}\",\n",
    "                    \"participants\": 1\n",
    "                }},\n",
    "                \"\"\"\n",
    "                return output\n",
    "\n",
    "            # Datei schreiben\n",
    "            config_file.write(cond(listname))\n",
    "\n",
    "    config_file.write(']\\n}')\n",
    "\n",
    "\n",
    "print(f\"Dateien aus '{directory}' wurden in '{config_filename}' geschrieben.\")\n"
   ]
  },
  {
   "cell_type": "code",
   "execution_count": null,
   "metadata": {},
   "outputs": [],
   "source": []
  },
  {
   "cell_type": "code",
   "execution_count": null,
   "metadata": {},
   "outputs": [],
   "source": []
  },
  {
   "cell_type": "code",
   "execution_count": null,
   "metadata": {},
   "outputs": [],
   "source": []
  },
  {
   "cell_type": "code",
   "execution_count": null,
   "metadata": {},
   "outputs": [],
   "source": []
  },
  {
   "cell_type": "code",
   "execution_count": null,
   "metadata": {},
   "outputs": [],
   "source": []
  },
  {
   "cell_type": "code",
   "execution_count": null,
   "metadata": {},
   "outputs": [],
   "source": []
  },
  {
   "cell_type": "code",
   "execution_count": null,
   "metadata": {},
   "outputs": [],
   "source": []
  },
  {
   "cell_type": "code",
   "execution_count": null,
   "metadata": {},
   "outputs": [],
   "source": []
  },
  {
   "cell_type": "code",
   "execution_count": null,
   "metadata": {},
   "outputs": [],
   "source": []
  }
 ],
 "metadata": {
  "kernelspec": {
   "display_name": "base",
   "language": "python",
   "name": "python3"
  },
  "language_info": {
   "codemirror_mode": {
    "name": "ipython",
    "version": 3
   },
   "file_extension": ".py",
   "mimetype": "text/x-python",
   "name": "python",
   "nbconvert_exporter": "python",
   "pygments_lexer": "ipython3",
   "version": "3.8.3"
  }
 },
 "nbformat": 4,
 "nbformat_minor": 2
}
